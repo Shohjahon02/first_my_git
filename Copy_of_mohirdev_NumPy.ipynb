{
  "cells": [
    {
      "cell_type": "markdown",
      "metadata": {
        "id": "view-in-github",
        "colab_type": "text"
      },
      "source": [
        "<a href=\"https://colab.research.google.com/github/Shohjahon02/first_my_git/blob/main/Copy_of_mohirdev_NumPy.ipynb\" target=\"_parent\"><img src=\"https://colab.research.google.com/assets/colab-badge.svg\" alt=\"Open In Colab\"/></a>"
      ]
    },
    {
      "cell_type": "markdown",
      "id": "bf79c78b",
      "metadata": {
        "id": "bf79c78b"
      },
      "source": [
        "# NumPy kutubxonasiga doir bilimlaringizni mustaxkamlash uchun mashqlar\n",
        "\n",
        "Hurmatli o'quvchi, bilimingizni yanada mustaxkamlashingiz va chuqurroq ko'nikmalarga ega bo'lishingiz uchun sizga topshiriqlar tayyorladik. Sizga yengillik yaratish maqsadida topshiriqni aynan qanday funksiyalar yordamida amalga oshirishingiz mumkin ekanini \n",
        " `💡Ishora` ko'rinishida yozdik!"
      ]
    },
    {
      "cell_type": "markdown",
      "id": "017db353",
      "metadata": {
        "id": "017db353"
      },
      "source": [
        "#### 1. NumPy kutubxonasini `np` nomi ostida yuklang va numpy kutubxonasini chop eting.\n",
        "\n",
        "versiya va konfiguratsiyani tekshiring.\n"
      ]
    },
    {
      "cell_type": "markdown",
      "source": [
        "`💡Ishora` import … as` and `np.__version__, np.show_config"
      ],
      "metadata": {
        "id": "e28779fe"
      },
      "id": "e28779fe"
    },
    {
      "cell_type": "code",
      "source": [
        "import numpy as np"
      ],
      "metadata": {
        "id": "_pCbn1ieI3u9"
      },
      "id": "_pCbn1ieI3u9",
      "execution_count": 2,
      "outputs": []
    },
    {
      "cell_type": "markdown",
      "id": "46950f4f",
      "metadata": {
        "id": "46950f4f"
      },
      "source": [
        "#### 2. Raqamli qiymatlar ro'yxatini bir o'lchovli NumPy massiviga aylantiring! "
      ]
    },
    {
      "cell_type": "markdown",
      "source": [
        "`💡Ishora` numpy.array"
      ],
      "metadata": {
        "id": "9b0e875f"
      },
      "id": "9b0e875f"
    },
    {
      "cell_type": "code",
      "source": [
        "arr = np.array([1,2,3,4,5,6,7,8,9])"
      ],
      "metadata": {
        "id": "dgnzjeT3JCi4"
      },
      "id": "dgnzjeT3JCi4",
      "execution_count": null,
      "outputs": []
    },
    {
      "cell_type": "markdown",
      "id": "e3c20b3d",
      "metadata": {
        "id": "e3c20b3d"
      },
      "source": [
        "#### 3. Qiymatlari noldan iborat bo'lgan to'qqiz o'lchovli massiv yarating.\n",
        "\n"
      ]
    },
    {
      "cell_type": "code",
      "source": [
        "zero = np.zeros(shape=(9,9))\n",
        "zero"
      ],
      "metadata": {
        "colab": {
          "base_uri": "https://localhost:8080/"
        },
        "id": "ULMtOw9kRasr",
        "outputId": "d96c3641-1c42-45d0-d268-c294927814e1"
      },
      "id": "ULMtOw9kRasr",
      "execution_count": null,
      "outputs": [
        {
          "output_type": "execute_result",
          "data": {
            "text/plain": [
              "array([[0., 0., 0., 0., 0., 0., 0., 0., 0.],\n",
              "       [0., 0., 0., 0., 0., 0., 0., 0., 0.],\n",
              "       [0., 0., 0., 0., 0., 0., 0., 0., 0.],\n",
              "       [0., 0., 0., 0., 0., 0., 0., 0., 0.],\n",
              "       [0., 0., 0., 0., 0., 0., 0., 0., 0.],\n",
              "       [0., 0., 0., 0., 0., 0., 0., 0., 0.],\n",
              "       [0., 0., 0., 0., 0., 0., 0., 0., 0.],\n",
              "       [0., 0., 0., 0., 0., 0., 0., 0., 0.],\n",
              "       [0., 0., 0., 0., 0., 0., 0., 0., 0.]])"
            ]
          },
          "metadata": {},
          "execution_count": 6
        }
      ]
    },
    {
      "cell_type": "markdown",
      "source": [
        "`💡Ishora` np.zeros"
      ],
      "metadata": {
        "id": "96d0b63e"
      },
      "id": "96d0b63e"
    },
    {
      "cell_type": "markdown",
      "id": "b15a879f",
      "metadata": {
        "id": "b15a879f"
      },
      "source": [
        "#### 4. Massiv yarating va uning xotira hajmini toping.\n",
        "\n"
      ]
    },
    {
      "cell_type": "markdown",
      "source": [
        "`💡Ishora` size, itemsize"
      ],
      "metadata": {
        "id": "32f9025c"
      },
      "id": "32f9025c"
    },
    {
      "cell_type": "code",
      "source": [
        "arr = np.array([1,2,3,4,5,6,7,8,9])\n",
        "arr.size"
      ],
      "metadata": {
        "id": "MZxcJM_oJOTs",
        "colab": {
          "base_uri": "https://localhost:8080/"
        },
        "outputId": "7642d08a-1116-4350-8ecc-2135bba0bc8a"
      },
      "id": "MZxcJM_oJOTs",
      "execution_count": null,
      "outputs": [
        {
          "output_type": "execute_result",
          "data": {
            "text/plain": [
              "9"
            ]
          },
          "metadata": {},
          "execution_count": 9
        }
      ]
    },
    {
      "cell_type": "markdown",
      "id": "0a708990",
      "metadata": {
        "id": "0a708990"
      },
      "source": [
        "#### 5. NumPy kutubxonasidagi add funksiyasi hujjatlarini buyruq satridan qanday olishi mumkin? \n"
      ]
    },
    {
      "cell_type": "markdown",
      "source": [
        "`💡Ishora` np.info"
      ],
      "metadata": {
        "id": "d254eea5"
      },
      "id": "d254eea5"
    },
    {
      "cell_type": "code",
      "source": [
        "info = np.info(arr)"
      ],
      "metadata": {
        "id": "m7nA_vYsJVUi",
        "colab": {
          "base_uri": "https://localhost:8080/"
        },
        "outputId": "d57f9ea3-ca0b-423b-bbcc-511148930830"
      },
      "id": "m7nA_vYsJVUi",
      "execution_count": null,
      "outputs": [
        {
          "output_type": "stream",
          "name": "stdout",
          "text": [
            "class:  ndarray\n",
            "shape:  (9,)\n",
            "strides:  (8,)\n",
            "itemsize:  8\n",
            "aligned:  True\n",
            "contiguous:  True\n",
            "fortran:  True\n",
            "data pointer: 0x26a40f0\n",
            "byteorder:  little\n",
            "byteswap:  False\n",
            "type: int64\n"
          ]
        }
      ]
    },
    {
      "cell_type": "markdown",
      "id": "0b16cd77",
      "metadata": {
        "id": "0b16cd77"
      },
      "source": [
        "#### 6. Shunday vekor yaratingki u o'n ikki o'lchamda va qiymatlari noldan iborat bo'lsin, lekin vektorning oltinchi qiymati 1 ga teng bo'lsin.\n",
        "\n"
      ]
    },
    {
      "cell_type": "markdown",
      "source": [
        "`💡Ishora` array[12]"
      ],
      "metadata": {
        "id": "05223560"
      },
      "id": "05223560"
    },
    {
      "cell_type": "code",
      "source": [
        "vektor = np.array([0,0,0,0,0,0,0,0,0,0,0,0]) \n",
        "vektor[5] = 1\n",
        "vektor"
      ],
      "metadata": {
        "id": "UJfYDNQoJc7M",
        "colab": {
          "base_uri": "https://localhost:8080/"
        },
        "outputId": "7661728b-e2fe-45b2-94cf-4d9375a02c92"
      },
      "id": "UJfYDNQoJc7M",
      "execution_count": null,
      "outputs": [
        {
          "output_type": "execute_result",
          "data": {
            "text/plain": [
              "array([0, 0, 0, 0, 0, 1, 0, 0, 0, 0, 0, 0])"
            ]
          },
          "metadata": {},
          "execution_count": 12
        }
      ]
    },
    {
      "cell_type": "markdown",
      "id": "782d4c77",
      "metadata": {
        "id": "782d4c77"
      },
      "source": [
        "#### 7. Qiymatlari 20 dan 59 gacha bo'lgan vektor yarating.\n",
        "\n"
      ]
    },
    {
      "cell_type": "markdown",
      "source": [
        "`💡Ishora` arange"
      ],
      "metadata": {
        "id": "7250d114"
      },
      "id": "7250d114"
    },
    {
      "cell_type": "code",
      "source": [
        "arr1 = np.arange(20, 60, 1)\n",
        "arr1"
      ],
      "metadata": {
        "id": "fSaWkGakJhwz",
        "colab": {
          "base_uri": "https://localhost:8080/"
        },
        "outputId": "92446fd8-06cc-4a4f-f4ab-b0cb3088af38"
      },
      "id": "fSaWkGakJhwz",
      "execution_count": null,
      "outputs": [
        {
          "output_type": "execute_result",
          "data": {
            "text/plain": [
              "array([20, 21, 22, 23, 24, 25, 26, 27, 28, 29, 30, 31, 32, 33, 34, 35, 36,\n",
              "       37, 38, 39, 40, 41, 42, 43, 44, 45, 46, 47, 48, 49, 50, 51, 52, 53,\n",
              "       54, 55, 56, 57, 58, 59])"
            ]
          },
          "metadata": {},
          "execution_count": 5
        }
      ]
    },
    {
      "cell_type": "markdown",
      "id": "48d48f01",
      "metadata": {
        "id": "48d48f01"
      },
      "source": [
        "#### 8. Vektor yarating va uni teskari o'zgartiring \n",
        "(birinchi element oxirgisi bo'lsin)\n",
        "\n"
      ]
    },
    {
      "cell_type": "markdown",
      "source": [
        "`💡Ishora` array[::-1]"
      ],
      "metadata": {
        "id": "fb702ae0"
      },
      "id": "fb702ae0"
    },
    {
      "cell_type": "code",
      "source": [
        "arr = np.arange(0, 20, 2)\n",
        "arr = arr[::-1]\n",
        "arr"
      ],
      "metadata": {
        "id": "GCP6vp_WJrON",
        "colab": {
          "base_uri": "https://localhost:8080/"
        },
        "outputId": "eb88f0ab-eec8-416d-efaa-690f7b79cdbf"
      },
      "id": "GCP6vp_WJrON",
      "execution_count": null,
      "outputs": [
        {
          "output_type": "execute_result",
          "data": {
            "text/plain": [
              "array([18, 16, 14, 12, 10,  8,  6,  4,  2,  0])"
            ]
          },
          "metadata": {},
          "execution_count": 7
        }
      ]
    },
    {
      "cell_type": "markdown",
      "id": "4fa39382",
      "metadata": {
        "id": "4fa39382"
      },
      "source": [
        "#### 9. 12 dan 20 gacha bo'lgan qiymatlarga ega 3x3 matritsa yarating.\n"
      ]
    },
    {
      "cell_type": "markdown",
      "source": [
        "`💡Ishora` reshape"
      ],
      "metadata": {
        "id": "97e6be92"
      },
      "id": "97e6be92"
    },
    {
      "cell_type": "code",
      "source": [
        "arr1 = np.arange(12, 21, 1).reshape(3, 3)\n",
        "arr1"
      ],
      "metadata": {
        "id": "Ve7gEGjuJxxw",
        "colab": {
          "base_uri": "https://localhost:8080/"
        },
        "outputId": "42400a59-9fad-4782-ef09-2a834c98062b"
      },
      "id": "Ve7gEGjuJxxw",
      "execution_count": null,
      "outputs": [
        {
          "output_type": "execute_result",
          "data": {
            "text/plain": [
              "array([[12, 13, 14],\n",
              "       [15, 16, 17],\n",
              "       [18, 19, 20]])"
            ]
          },
          "metadata": {},
          "execution_count": 9
        }
      ]
    },
    {
      "cell_type": "markdown",
      "id": "da64551a",
      "metadata": {
        "id": "da64551a"
      },
      "source": [
        "#### 10. Quyidagi matritsadan foydalanib nolga teng bo'lmagan elementlarning indekslarini toping.\n",
        "[3, 7, 0, 0, 9, 0] \n",
        "\n",
        "\n",
        "\n"
      ]
    },
    {
      "cell_type": "markdown",
      "source": [
        "`💡Ishora` np.nonzero"
      ],
      "metadata": {
        "id": "322b2b68"
      },
      "id": "322b2b68"
    },
    {
      "cell_type": "code",
      "source": [
        "np.nonzero([3, 7, 0, 0, 9, 0])"
      ],
      "metadata": {
        "id": "fNIuSyBaJ4OP",
        "colab": {
          "base_uri": "https://localhost:8080/"
        },
        "outputId": "2c6ff4f9-7ace-40aa-a918-5aecaf4f1a62"
      },
      "id": "fNIuSyBaJ4OP",
      "execution_count": null,
      "outputs": [
        {
          "output_type": "execute_result",
          "data": {
            "text/plain": [
              "(array([0, 1, 4]),)"
            ]
          },
          "metadata": {},
          "execution_count": 11
        }
      ]
    },
    {
      "cell_type": "markdown",
      "id": "f89d9c9e",
      "metadata": {
        "id": "f89d9c9e"
      },
      "source": [
        "#### 11. Tasodifiy qiymatlar bilan 2x2x2 o'lchovidagi massiv yarating.\n"
      ]
    },
    {
      "cell_type": "markdown",
      "source": [
        "`💡Ishora` np.random.random"
      ],
      "metadata": {
        "id": "5717e1c1"
      },
      "id": "5717e1c1"
    },
    {
      "cell_type": "code",
      "source": [
        "arr2 = np.random.randint(10, size=(2, 2, 2))\n",
        "arr2"
      ],
      "metadata": {
        "id": "bHloeqHOKuiX",
        "colab": {
          "base_uri": "https://localhost:8080/"
        },
        "outputId": "2f26b771-cc90-44bc-d299-6221b12f349a"
      },
      "id": "bHloeqHOKuiX",
      "execution_count": null,
      "outputs": [
        {
          "output_type": "execute_result",
          "data": {
            "text/plain": [
              "array([[[9, 6],\n",
              "        [8, 0]],\n",
              "\n",
              "       [[9, 1],\n",
              "        [2, 4]]])"
            ]
          },
          "metadata": {},
          "execution_count": 13
        }
      ]
    },
    {
      "cell_type": "markdown",
      "id": "13c5928c",
      "metadata": {
        "id": "13c5928c"
      },
      "source": [
        "#### 12. Tasodifiy sonlardan tashkil topgan 9X9 o'lchamidagi massiv yarating. So'ng uning eng katta va eng kichik qiymatlarini toping\n"
      ]
    },
    {
      "cell_type": "markdown",
      "source": [
        "`💡Ishora` min, max"
      ],
      "metadata": {
        "id": "0ede4d26"
      },
      "id": "0ede4d26"
    },
    {
      "cell_type": "code",
      "source": [
        "arr3 = np.random.randint(30, size=(9, 9))\n",
        "arr3.max()\n",
        "arr3.min()"
      ],
      "metadata": {
        "id": "OJiVa5K9LJyb",
        "colab": {
          "base_uri": "https://localhost:8080/"
        },
        "outputId": "41da93e4-e2ee-40ce-f60d-548f47c3bbc1"
      },
      "id": "OJiVa5K9LJyb",
      "execution_count": null,
      "outputs": [
        {
          "output_type": "execute_result",
          "data": {
            "text/plain": [
              "0"
            ]
          },
          "metadata": {},
          "execution_count": 24
        }
      ]
    },
    {
      "cell_type": "markdown",
      "id": "3fa2e461",
      "metadata": {
        "id": "3fa2e461"
      },
      "source": [
        "#### 13. Quyidagi misol qanday natija beradi?\n",
        "\n",
        "\n",
        "```python\n",
        "0 * np.nan\n",
        "np.nan == np.nan\n",
        "np.inf > np.nan\n",
        "np.nan - np.nan\n",
        "np.nan in set([np.nan])\n",
        "0.7 == 7 * 0.1\n",
        "```\n"
      ]
    },
    {
      "cell_type": "markdown",
      "source": [
        "`💡Ishora` NaN = not a number, inf = infinity"
      ],
      "metadata": {
        "id": "c0048e59"
      },
      "id": "c0048e59"
    },
    {
      "cell_type": "code",
      "source": [
        "0 * np.nan\n",
        "np.nan == np.nan\n",
        "np.inf > np.nan\n",
        "np.nan - np.nan\n",
        "np.nan in set([np.nan])\n",
        "0.7 == 7 * 0.1"
      ],
      "metadata": {
        "id": "Thbqd_RCLf_e",
        "colab": {
          "base_uri": "https://localhost:8080/"
        },
        "outputId": "d7d44da5-f69f-4782-a482-2fe8afc7a74e"
      },
      "id": "Thbqd_RCLf_e",
      "execution_count": null,
      "outputs": [
        {
          "output_type": "execute_result",
          "data": {
            "text/plain": [
              "False"
            ]
          },
          "metadata": {},
          "execution_count": 25
        }
      ]
    },
    {
      "cell_type": "markdown",
      "id": "73f7a549",
      "metadata": {
        "id": "73f7a549"
      },
      "source": [
        "#### 14. O'lchamlari 6x3 va 3x4 bo'lgan martitsa yarating, so'ng ularning  ko'paytmasini hisoblang.\n",
        "\n"
      ]
    },
    {
      "cell_type": "markdown",
      "source": [
        "`💡Ishora` np.dot` or `np.ones"
      ],
      "metadata": {
        "id": "351ff928"
      },
      "id": "351ff928"
    },
    {
      "cell_type": "code",
      "source": [
        "mat = np.random.randint(20, size=(6, 3))\n",
        "mat2 = np.arange(1, 13, 1).reshape(3, 4)\n",
        "result = np.dot(mat, mat2)\n",
        "result"
      ],
      "metadata": {
        "id": "e_5QUFcPLtVX",
        "colab": {
          "base_uri": "https://localhost:8080/"
        },
        "outputId": "3e5256f1-fdff-406d-cea1-e287d762aff9"
      },
      "id": "e_5QUFcPLtVX",
      "execution_count": null,
      "outputs": [
        {
          "output_type": "execute_result",
          "data": {
            "text/plain": [
              "array([[ 29,  42,  55,  68],\n",
              "       [ 67,  78,  89, 100],\n",
              "       [ 56,  80, 104, 128],\n",
              "       [135, 174, 213, 252],\n",
              "       [199, 230, 261, 292],\n",
              "       [161, 194, 227, 260]])"
            ]
          },
          "metadata": {},
          "execution_count": 30
        }
      ]
    },
    {
      "cell_type": "markdown",
      "id": "6d0c506f",
      "metadata": {
        "id": "6d0c506f"
      },
      "source": [
        "#### 15. Quyidagi misol qanday natija beradi?\n",
        "\n",
        "```python\n",
        "print(sum(range(5),-1))\n",
        "from numpy import *\n",
        "print(sum(range(5),-1))\n",
        "```"
      ]
    },
    {
      "cell_type": "code",
      "execution_count": null,
      "id": "c1cc1143",
      "metadata": {
        "id": "c1cc1143",
        "colab": {
          "base_uri": "https://localhost:8080/"
        },
        "outputId": "1ebff8ed-6b05-4e71-ffcd-dec6971ba013"
      },
      "outputs": [
        {
          "output_type": "stream",
          "name": "stdout",
          "text": [
            "10\n",
            "10\n"
          ]
        }
      ],
      "source": [
        "print(sum(range(5),-1))\n",
        "from numpy import *\n",
        "print(sum(range(5),-1))\n"
      ]
    },
    {
      "cell_type": "markdown",
      "id": "d6ad1a9f",
      "metadata": {
        "id": "d6ad1a9f"
      },
      "source": [
        "#### 16. NumPy kutubxonasi yordamida ikkita massivni solishtiring va ular usida quyidagi amallarni bajaring.\n",
        "\n",
        "```python\n",
        "Array a: [1 2]\n",
        "Array b: [4 5]\n",
        "a > b \n",
        "[False False]\n",
        "a >= b \n",
        "[False False] \n",
        "a < b \n",
        "[ True True] \n",
        "a <= b \n",
        "[ True True]\n",
        "```"
      ]
    },
    {
      "cell_type": "code",
      "execution_count": null,
      "id": "7ba3c441",
      "metadata": {
        "id": "7ba3c441",
        "colab": {
          "base_uri": "https://localhost:8080/"
        },
        "outputId": "007020ec-adb6-4776-d4c5-40e32d803bbd"
      },
      "outputs": [
        {
          "output_type": "execute_result",
          "data": {
            "text/plain": [
              "array([ True,  True])"
            ]
          },
          "metadata": {},
          "execution_count": 52
        }
      ],
      "source": [
        "a = np.array([1, 2])\n",
        "b = np.array([4, 5])\n",
        "a>b\n",
        "a>=b\n",
        "a<b\n",
        "a<=b"
      ]
    },
    {
      "cell_type": "markdown",
      "id": "e3a7ba7f",
      "metadata": {
        "id": "e3a7ba7f"
      },
      "source": [
        "#### 17. Quyidagi misol qanday natija beradi?\n",
        "\n",
        "```python\n",
        "np.array(0) / np.array(0)\n",
        "np.array(0) // np.array(0)\n",
        "np.array([np.nan]).astype(int).astype(float)\n",
        "```"
      ]
    },
    {
      "cell_type": "code",
      "execution_count": null,
      "id": "b874734e",
      "metadata": {
        "id": "b874734e",
        "colab": {
          "base_uri": "https://localhost:8080/"
        },
        "outputId": "36a245cc-e5ed-441e-ba66-b804f85ec9d7"
      },
      "outputs": [
        {
          "output_type": "stream",
          "name": "stderr",
          "text": [
            "<ipython-input-53-cd809174da5d>:1: RuntimeWarning: invalid value encountered in true_divide\n",
            "  np.array(0) / np.array(0)\n",
            "<ipython-input-53-cd809174da5d>:2: RuntimeWarning: divide by zero encountered in floor_divide\n",
            "  np.array(0) // np.array(0)\n"
          ]
        },
        {
          "output_type": "execute_result",
          "data": {
            "text/plain": [
              "array([-9.22337204e+18])"
            ]
          },
          "metadata": {},
          "execution_count": 53
        }
      ],
      "source": [
        "np.array(0) / np.array(0)\n",
        "np.array(0) // np.array(0)\n",
        "np.array([np.nan]).astype(int).astype(float)"
      ]
    },
    {
      "cell_type": "markdown",
      "id": "6d17ab5d",
      "metadata": {
        "id": "6d17ab5d"
      },
      "source": [
        "#### 18. Ikkita massiv yarating va ular orasidagi umumiy qiymatlarni toping\n"
      ]
    },
    {
      "cell_type": "markdown",
      "source": [
        "`💡Ishora` np.intersect1d"
      ],
      "metadata": {
        "id": "4c4e2c5e"
      },
      "id": "4c4e2c5e"
    },
    {
      "cell_type": "code",
      "source": [
        "arr1 = np.random.randint(10, size=(1, 10))\n",
        "arr2 = np.random.randint(10, size=(1, 10))\n",
        "print(arr1)\n",
        "print(arr2)\n",
        "np.intersect1d(arr1, arr2)"
      ],
      "metadata": {
        "id": "Dxz5P8WpMeAP",
        "colab": {
          "base_uri": "https://localhost:8080/"
        },
        "outputId": "5409a7db-8264-4de8-cfd9-01e83034f6ff"
      },
      "id": "Dxz5P8WpMeAP",
      "execution_count": null,
      "outputs": [
        {
          "output_type": "stream",
          "name": "stdout",
          "text": [
            "[[3 1 3 5 0 4 7 5 7 4]]\n",
            "[[9 7 9 9 0 2 7 7 5 9]]\n"
          ]
        },
        {
          "output_type": "execute_result",
          "data": {
            "text/plain": [
              "array([0, 5, 7])"
            ]
          },
          "metadata": {},
          "execution_count": 60
        }
      ]
    },
    {
      "cell_type": "markdown",
      "id": "8837119b",
      "metadata": {
        "id": "8837119b"
      },
      "source": [
        "#### 19. Tasodifiy sonlardan iborat bo'lgan massiv yarating, so'ng ularni quyida berilgan 4 xil usul yordamida musbat sonlarning butun qismini ajratib oling."
      ]
    },
    {
      "cell_type": "markdown",
      "source": [
        "`💡Ishora` %, np.floor, astype, np.trunc"
      ],
      "metadata": {
        "id": "2b05c544"
      },
      "id": "2b05c544"
    },
    {
      "cell_type": "code",
      "source": [
        "son = np.random.randn(1,10)\n",
        "np.floor(son)\n",
        "son.astype\n",
        "np.trunc(son)"
      ],
      "metadata": {
        "id": "jc6wN5WWMpS3",
        "colab": {
          "base_uri": "https://localhost:8080/"
        },
        "outputId": "e28e8814-e9d3-4720-d220-7caf1094fc76"
      },
      "id": "jc6wN5WWMpS3",
      "execution_count": null,
      "outputs": [
        {
          "output_type": "execute_result",
          "data": {
            "text/plain": [
              "array([[ 0.,  1., -0., -0., -0.,  0.,  0.,  1., -0.,  1.]])"
            ]
          },
          "metadata": {},
          "execution_count": 10
        }
      ]
    },
    {
      "cell_type": "markdown",
      "id": "ec788c9f",
      "metadata": {
        "id": "ec788c9f"
      },
      "source": [
        "#### 20. O'lchovlari 3x3 matritsa yarating, ularning qator qiymatlari 0 dan 2 gacha bo'lsin.\n",
        "\n"
      ]
    },
    {
      "cell_type": "markdown",
      "source": [
        "`💡Ishora` np.arange"
      ],
      "metadata": {
        "id": "c3980b2c"
      },
      "id": "c3980b2c"
    },
    {
      "cell_type": "code",
      "source": [
        "son1 = np.random.randint(3, size=(3, 3))\n",
        "son1"
      ],
      "metadata": {
        "id": "ycz3jw4bM0Xk"
      },
      "id": "ycz3jw4bM0Xk",
      "execution_count": null,
      "outputs": []
    },
    {
      "cell_type": "markdown",
      "id": "391791e0",
      "metadata": {
        "id": "391791e0"
      },
      "source": [
        "#### 21. O'chamlari 10 bo'lgan tasodifiy vektor yarating va uni o'sish tartibida chiqaruvchi dastur tuzing.\n",
        "\n"
      ]
    },
    {
      "cell_type": "markdown",
      "source": [
        "`💡Ishora` sort"
      ],
      "metadata": {
        "id": "ada71c06"
      },
      "id": "ada71c06"
    },
    {
      "cell_type": "code",
      "source": [
        "vektor = np.random.randint(25, size=(5, 5))\n",
        "np.sort(vektor)"
      ],
      "metadata": {
        "id": "TPMqaavROM7g",
        "colab": {
          "base_uri": "https://localhost:8080/"
        },
        "outputId": "360557f5-5618-4d01-e49d-b04c38239984"
      },
      "id": "TPMqaavROM7g",
      "execution_count": null,
      "outputs": [
        {
          "output_type": "execute_result",
          "data": {
            "text/plain": [
              "array([[ 3,  5,  9, 20, 22],\n",
              "       [ 5,  9, 20, 20, 21],\n",
              "       [ 5,  9,  9, 18, 24],\n",
              "       [ 1,  9, 19, 21, 23],\n",
              "       [ 5,  8, 10, 17, 23]])"
            ]
          },
          "metadata": {},
          "execution_count": 23
        }
      ]
    },
    {
      "cell_type": "markdown",
      "id": "1e74d39e",
      "metadata": {
        "id": "1e74d39e"
      },
      "source": [
        "#### 22. A va B nomi bilan ikkita tasodifiy qiymatlardan iborat bo'lgan massiv yarating, so'ng ulardan qaysi biri katta yoki kichik ekanligini tekshiring."
      ]
    },
    {
      "cell_type": "markdown",
      "source": [
        "`💡Ishora` np.allclose, np.array_equal"
      ],
      "metadata": {
        "id": "eb0e066c"
      },
      "id": "eb0e066c"
    },
    {
      "cell_type": "code",
      "source": [
        "A = np.array([1,3,5])\n",
        "B = np.array([2,1,6])\n",
        "np.array_equal(A, B)"
      ],
      "metadata": {
        "id": "xHNWNZnwOT1r",
        "colab": {
          "base_uri": "https://localhost:8080/"
        },
        "outputId": "29bdbd64-b209-4b83-ca67-8afb02847dd5"
      },
      "id": "xHNWNZnwOT1r",
      "execution_count": null,
      "outputs": [
        {
          "output_type": "execute_result",
          "data": {
            "text/plain": [
              "False"
            ]
          },
          "metadata": {},
          "execution_count": 27
        }
      ]
    },
    {
      "cell_type": "markdown",
      "id": "78250c14",
      "metadata": {
        "id": "78250c14"
      },
      "source": [
        "#### 23. O'lchamlari 6x3 va 3x4 matritsa tuzing va ularni o'zaro ko'paytiring. \n"
      ]
    },
    {
      "cell_type": "markdown",
      "source": [
        "`💡Ishora` np.dot or np.ones"
      ],
      "metadata": {
        "id": "2e482afe"
      },
      "id": "2e482afe"
    },
    {
      "cell_type": "code",
      "source": [
        "son1 = np.random.randint(2, size=(5, 5))\n",
        "son2 = np.arange(1, 26, 1).reshape(5, 5)\n",
        "print(son1)\n",
        "print(son2)\n",
        "np.dot(son1, son2)"
      ],
      "metadata": {
        "id": "ZRlMgdT9POgS",
        "colab": {
          "base_uri": "https://localhost:8080/"
        },
        "outputId": "2c8660c6-9609-49ff-872e-c4bf128088cb"
      },
      "id": "ZRlMgdT9POgS",
      "execution_count": null,
      "outputs": [
        {
          "output_type": "stream",
          "name": "stdout",
          "text": [
            "[[1 1 0 0 0]\n",
            " [0 1 1 1 0]\n",
            " [0 0 1 1 0]\n",
            " [0 0 0 0 1]\n",
            " [1 1 0 0 1]]\n",
            "[[ 1  2  3  4  5]\n",
            " [ 6  7  8  9 10]\n",
            " [11 12 13 14 15]\n",
            " [16 17 18 19 20]\n",
            " [21 22 23 24 25]]\n"
          ]
        },
        {
          "output_type": "execute_result",
          "data": {
            "text/plain": [
              "array([[ 7,  9, 11, 13, 15],\n",
              "       [33, 36, 39, 42, 45],\n",
              "       [27, 29, 31, 33, 35],\n",
              "       [21, 22, 23, 24, 25],\n",
              "       [28, 31, 34, 37, 40]])"
            ]
          },
          "metadata": {},
          "execution_count": 30
        }
      ]
    },
    {
      "cell_type": "markdown",
      "id": "51898680",
      "metadata": {
        "id": "51898680"
      },
      "source": [
        "#### 24. Tasodifiy sonlardan iborat bo'lgan o'lchami 5 ga teng vektor yarating, so'ng uning eng katta qiymatini 0 ga o'zgartiring.\n"
      ]
    },
    {
      "cell_type": "markdown",
      "source": [
        "`💡Ishora` argmax"
      ],
      "metadata": {
        "id": "ee92ccaf"
      },
      "id": "ee92ccaf"
    },
    {
      "cell_type": "code",
      "source": [
        "arr = np.array([12, 32, 5, 3, 43])\n",
        "arr[np.argmax(arr)] = 0\n",
        "arr"
      ],
      "metadata": {
        "id": "v9DvyaTNPk_t",
        "colab": {
          "base_uri": "https://localhost:8080/"
        },
        "outputId": "23494b66-aa1e-4960-b66e-ddc211d2eba8"
      },
      "id": "v9DvyaTNPk_t",
      "execution_count": null,
      "outputs": [
        {
          "output_type": "execute_result",
          "data": {
            "text/plain": [
              "array([12, 32,  5,  3,  0])"
            ]
          },
          "metadata": {},
          "execution_count": 46
        }
      ]
    },
    {
      "cell_type": "markdown",
      "id": "89e78048",
      "metadata": {
        "id": "89e78048"
      },
      "source": [
        "#### 25. Quyidagi dastur qanday natija beradi?\n",
        "```python\n",
        "print(sum(range(5),-1))\n",
        "from numpy import *\n",
        "print(sum(range(5),-1))\n",
        "```"
      ]
    },
    {
      "cell_type": "code",
      "execution_count": null,
      "id": "8026c969",
      "metadata": {
        "id": "8026c969",
        "colab": {
          "base_uri": "https://localhost:8080/"
        },
        "outputId": "2ae74b67-7d7f-4503-9905-8fe4da418dec"
      },
      "outputs": [
        {
          "output_type": "stream",
          "name": "stdout",
          "text": [
            "10\n",
            "10\n"
          ]
        }
      ],
      "source": [
        "print(sum(range(5),-1))\n",
        "from numpy import *\n",
        "print(sum(range(5),-1))"
      ]
    },
    {
      "cell_type": "markdown",
      "id": "ebd10810",
      "metadata": {
        "id": "ebd10810"
      },
      "source": [
        "#### 26. NumPy kutubxonasi yordamida ikkita massivni solishtiruvchi dastur tuzing.\n",
        "```python\n",
        "Array a: [1 2]\n",
        "Array b: [4 5]\n",
        "a > b \n",
        "[False False]\n",
        "a >= b \n",
        "[False False] \n",
        "a < b \n",
        "[ True True] \n",
        "a <= b \n",
        "[ True True]\n",
        "```"
      ]
    },
    {
      "cell_type": "code",
      "execution_count": null,
      "id": "90fed5c6",
      "metadata": {
        "id": "90fed5c6",
        "colab": {
          "base_uri": "https://localhost:8080/"
        },
        "outputId": "61e1cfa2-6057-4243-a05d-f4f1acb8040e"
      },
      "outputs": [
        {
          "output_type": "execute_result",
          "data": {
            "text/plain": [
              "array([ True,  True])"
            ]
          },
          "metadata": {},
          "execution_count": 59
        }
      ],
      "source": [
        "a = np.array([1, 2])\n",
        "b = np.array([4, 5])\n",
        "a >= b\n",
        "a > b\n",
        "a < b\n",
        "a <= b"
      ]
    },
    {
      "cell_type": "markdown",
      "id": "f1ae2c2d",
      "metadata": {
        "id": "f1ae2c2d"
      },
      "source": [
        "#### 27. Ikkita umumiy qiymatlari mavjud bo'lgan massiv yarating, so'ng ulardagi umumiy qiymatlarni aniqlovchi dastur tuzing.\n"
      ]
    },
    {
      "cell_type": "markdown",
      "source": [
        "`💡Ishora` np.intersect1d"
      ],
      "metadata": {
        "id": "097482ad"
      },
      "id": "097482ad"
    },
    {
      "cell_type": "code",
      "source": [
        "arr1 = np.random.randint(20, size=(1, 10))\n",
        "arr2 = np.random.randint(20, size=(1, 10))\n",
        "print(arr1)\n",
        "print(arr2)\n",
        "np.intersect1d(arr1, arr2)"
      ],
      "metadata": {
        "id": "M3QZ2rC3Roij",
        "colab": {
          "base_uri": "https://localhost:8080/"
        },
        "outputId": "f429daad-04ba-4ea7-da23-dafa67ebb44f"
      },
      "id": "M3QZ2rC3Roij",
      "execution_count": null,
      "outputs": [
        {
          "output_type": "stream",
          "name": "stdout",
          "text": [
            "[[ 7  7 13  8  9  4  7 12  3 16]]\n",
            "[[ 7 10  5 13 10 15 19  1 11 11]]\n"
          ]
        },
        {
          "output_type": "execute_result",
          "data": {
            "text/plain": [
              "array([ 7, 13])"
            ]
          },
          "metadata": {},
          "execution_count": 62
        }
      ]
    },
    {
      "cell_type": "markdown",
      "id": "129c342d",
      "metadata": {
        "id": "129c342d"
      },
      "source": [
        "#### 28. NumPy kutubxonasi yordamida kecha, bugun va ertangi kun sanalarini aniqlang.\n"
      ]
    },
    {
      "cell_type": "markdown",
      "source": [
        "`💡Ishora` np.datetime64, np.timedelta64"
      ],
      "metadata": {
        "id": "0fd2f947"
      },
      "id": "0fd2f947"
    },
    {
      "cell_type": "code",
      "source": [
        "arr = np.datetime64('2023-01-26')\n",
        "arr"
      ],
      "metadata": {
        "id": "dlljRGxkSitd",
        "colab": {
          "base_uri": "https://localhost:8080/"
        },
        "outputId": "1fea8b1d-ceef-4c54-8e5e-e258c2b934a5"
      },
      "id": "dlljRGxkSitd",
      "execution_count": null,
      "outputs": [
        {
          "output_type": "execute_result",
          "data": {
            "text/plain": [
              "numpy.datetime64('2023-01-26')"
            ]
          },
          "metadata": {},
          "execution_count": 67
        }
      ]
    },
    {
      "cell_type": "markdown",
      "id": "42f8b2f9",
      "metadata": {
        "id": "42f8b2f9"
      },
      "source": [
        "#### 29. 2016 yil yanvar oyiga to'g'ri keladigan barcha sanalarni NumPy kutubxonasi yordamida aniqlang.\n"
      ]
    },
    {
      "cell_type": "markdown",
      "source": [
        "`💡Ishora` np.arange(dtype=datetime64['D'])"
      ],
      "metadata": {
        "id": "SU1BWcA8Sw2M"
      },
      "id": "SU1BWcA8Sw2M"
    },
    {
      "cell_type": "code",
      "execution_count": 9,
      "id": "5ad086b0",
      "metadata": {
        "id": "5ad086b0",
        "colab": {
          "base_uri": "https://localhost:8080/"
        },
        "outputId": "7d66d707-e2a1-4360-8d6c-8aefa9c3a896"
      },
      "outputs": [
        {
          "output_type": "execute_result",
          "data": {
            "text/plain": [
              "array(['2016-01-01', '2016-01-02', '2016-01-03', '2016-01-04',\n",
              "       '2016-01-05', '2016-01-06', '2016-01-07', '2016-01-08',\n",
              "       '2016-01-09', '2016-01-10', '2016-01-11', '2016-01-12',\n",
              "       '2016-01-13', '2016-01-14', '2016-01-15', '2016-01-16',\n",
              "       '2016-01-17', '2016-01-18', '2016-01-19', '2016-01-20',\n",
              "       '2016-01-21', '2016-01-22', '2016-01-23', '2016-01-24',\n",
              "       '2016-01-25', '2016-01-26', '2016-01-27', '2016-01-28',\n",
              "       '2016-01-29', '2016-01-30', '2016-01-31'], dtype='datetime64[D]')"
            ]
          },
          "metadata": {},
          "execution_count": 9
        }
      ],
      "source": [
        "arr = np.arange('2016-01', '2016-02', dtype='datetime64[D]')\n",
        "arr"
      ]
    },
    {
      "cell_type": "markdown",
      "id": "486df8ea",
      "metadata": {
        "id": "486df8ea"
      },
      "source": [
        "#### 30. 4 xil usul yordamida musbat sonlarning tasodifiy massivining butun son qismini ajratib oling.\n"
      ]
    },
    {
      "cell_type": "markdown",
      "source": [
        "`💡Ishora` %, np.floor, astype, np.trunc`"
      ],
      "metadata": {
        "id": "h4QM3bp9TDhb"
      },
      "id": "h4QM3bp9TDhb"
    },
    {
      "cell_type": "code",
      "execution_count": 22,
      "id": "2680c1ca",
      "metadata": {
        "id": "2680c1ca",
        "colab": {
          "base_uri": "https://localhost:8080/"
        },
        "outputId": "9043bfb0-3c02-4af1-c32b-55f0faa68294"
      },
      "outputs": [
        {
          "output_type": "execute_result",
          "data": {
            "text/plain": [
              "array([12.,  3.,  2.,  5.,  7.])"
            ]
          },
          "metadata": {},
          "execution_count": 22
        }
      ],
      "source": [
        "arr1 = np.array([12, 3.5, 2.1, 5.8, 7])\n",
        "arr1 -= arr1%1\n",
        "arr1\n",
        "np.floor(arr1)\n",
        "np.trunc(arr1)"
      ]
    },
    {
      "cell_type": "markdown",
      "id": "649e89f9",
      "metadata": {
        "id": "649e89f9"
      },
      "source": [
        "#### 31. Qator qiymatlari 0 dan 2 gacha bo'lgan 3x3 matritsa yarating.\n"
      ]
    },
    {
      "cell_type": "markdown",
      "source": [
        "`💡Ishora` np.arange"
      ],
      "metadata": {
        "id": "e832212f"
      },
      "id": "e832212f"
    },
    {
      "cell_type": "code",
      "source": [
        "matrix = np.arange(0, 2, 1)\n",
        "matrix"
      ],
      "metadata": {
        "id": "YKNJEcLrTg3d",
        "colab": {
          "base_uri": "https://localhost:8080/"
        },
        "outputId": "f3be1eea-8a03-4189-e619-bc991693fa77"
      },
      "id": "YKNJEcLrTg3d",
      "execution_count": 27,
      "outputs": [
        {
          "output_type": "execute_result",
          "data": {
            "text/plain": [
              "array([0, 3])"
            ]
          },
          "metadata": {},
          "execution_count": 27
        }
      ]
    },
    {
      "cell_type": "markdown",
      "id": "2d07be1c",
      "metadata": {
        "id": "2d07be1c"
      },
      "source": [
        "#### 32. Tasodifiy qiymatlardan tashkil topgan 10 o'lchovli vektor yarating, so'ng uning qiymatlarini o'sish tartibida yozing.\n"
      ]
    },
    {
      "cell_type": "markdown",
      "source": [
        "`💡Ishora` sort"
      ],
      "metadata": {
        "id": "046a541a"
      },
      "id": "046a541a"
    },
    {
      "cell_type": "code",
      "source": [
        "vek = np.random.randint(10, size=(1, 10))\n",
        "np.sort(vek)"
      ],
      "metadata": {
        "id": "zOPE5f20U95l",
        "colab": {
          "base_uri": "https://localhost:8080/"
        },
        "outputId": "9472d920-6195-4815-91da-7775ca4e6b9b"
      },
      "id": "zOPE5f20U95l",
      "execution_count": 32,
      "outputs": [
        {
          "output_type": "execute_result",
          "data": {
            "text/plain": [
              "array([[0, 1, 1, 1, 3, 4, 6, 9, 9, 9]])"
            ]
          },
          "metadata": {},
          "execution_count": 32
        }
      ]
    },
    {
      "cell_type": "markdown",
      "id": "6415f02e",
      "metadata": {
        "id": "6415f02e"
      },
      "source": [
        "#### 33. Ixtiyoriy kichik massivlar yarating, ular yeg'indisini np.sum funksiyasidanda tezroq hisoblovchi dastur tuzing.\n"
      ]
    },
    {
      "cell_type": "markdown",
      "source": [
        "`💡Ishora` np.add.reduce"
      ],
      "metadata": {
        "id": "129e785f"
      },
      "id": "129e785f"
    },
    {
      "cell_type": "code",
      "source": [
        "arr1 = np.array([1,2,3])\n",
        "arr2 = np.array([1,2,3])\n",
        "arr3 = np.array([7,8,9])\n",
        "%time np.sum(arr1)\n",
        "%time np.add.reduce(arr2)"
      ],
      "metadata": {
        "id": "M0Xv2bB9VYQZ",
        "colab": {
          "base_uri": "https://localhost:8080/"
        },
        "outputId": "2494a8c1-0266-43ae-f63d-e0261a91a6c7"
      },
      "id": "M0Xv2bB9VYQZ",
      "execution_count": 40,
      "outputs": [
        {
          "output_type": "stream",
          "name": "stdout",
          "text": [
            "CPU times: user 108 µs, sys: 0 ns, total: 108 µs\n",
            "Wall time: 114 µs\n",
            "CPU times: user 56 µs, sys: 0 ns, total: 56 µs\n",
            "Wall time: 59.8 µs\n"
          ]
        },
        {
          "output_type": "execute_result",
          "data": {
            "text/plain": [
              "6"
            ]
          },
          "metadata": {},
          "execution_count": 40
        }
      ]
    },
    {
      "cell_type": "markdown",
      "id": "b7109c9f",
      "metadata": {
        "id": "b7109c9f"
      },
      "source": [
        "#### 34. Tasodifiy qiymatlardan tashkil topgan 5 o'lchovli vektor yarating, so'ng uning eng katta qiymatini 0 raqamiga almashtiring.\n"
      ]
    },
    {
      "cell_type": "markdown",
      "source": [
        "`💡Ishora` argmax"
      ],
      "metadata": {
        "id": "89b75e6d"
      },
      "id": "89b75e6d"
    },
    {
      "cell_type": "code",
      "source": [
        "arr1 = np.array([34, 3, 456, 7, 545, 3000, 890])\n",
        "arr1[np.argmax(arr1)] = 0\n",
        "arr1"
      ],
      "metadata": {
        "id": "rRz1oOQfXdg6",
        "colab": {
          "base_uri": "https://localhost:8080/"
        },
        "outputId": "7b463861-5a5f-41da-aa7f-8f8afdd188c0"
      },
      "id": "rRz1oOQfXdg6",
      "execution_count": 44,
      "outputs": [
        {
          "output_type": "execute_result",
          "data": {
            "text/plain": [
              "array([ 34,   3, 456,   7, 545,   0, 890])"
            ]
          },
          "metadata": {},
          "execution_count": 44
        }
      ]
    },
    {
      "cell_type": "markdown",
      "id": "58be9dd4",
      "metadata": {
        "id": "58be9dd4"
      },
      "source": [
        "#### 35. [1, 2, 3, 4, 5] vektor berilgan, har bir qiymat orasiga ketma-ket 3 ta nol raqamini yozuvchi dastur tuzing.\n"
      ]
    },
    {
      "cell_type": "markdown",
      "source": [
        "`💡Ishora` array[::4]"
      ],
      "metadata": {
        "id": "9cf9e134"
      },
      "id": "9cf9e134"
    },
    {
      "cell_type": "code",
      "source": [
        "arr = np.array([1, 2, 3, 4, 5])\n",
        "arr0 = np.array([0, 0, 0])\n",
        "arr[::1].add(arr0)\n",
        "arr"
      ],
      "metadata": {
        "id": "04IuJ2jaZeYu",
        "colab": {
          "base_uri": "https://localhost:8080/",
          "height": 217
        },
        "outputId": "b4f2463b-6849-4c07-aedd-93291c56289e"
      },
      "id": "04IuJ2jaZeYu",
      "execution_count": 55,
      "outputs": [
        {
          "output_type": "error",
          "ename": "AttributeError",
          "evalue": "ignored",
          "traceback": [
            "\u001b[0;31m---------------------------------------------------------------------------\u001b[0m",
            "\u001b[0;31mAttributeError\u001b[0m                            Traceback (most recent call last)",
            "\u001b[0;32m<ipython-input-55-dee847faa326>\u001b[0m in \u001b[0;36m<module>\u001b[0;34m\u001b[0m\n\u001b[1;32m      1\u001b[0m \u001b[0marr\u001b[0m \u001b[0;34m=\u001b[0m \u001b[0mnp\u001b[0m\u001b[0;34m.\u001b[0m\u001b[0marray\u001b[0m\u001b[0;34m(\u001b[0m\u001b[0;34m[\u001b[0m\u001b[0;36m1\u001b[0m\u001b[0;34m,\u001b[0m \u001b[0;36m2\u001b[0m\u001b[0;34m,\u001b[0m \u001b[0;36m3\u001b[0m\u001b[0;34m,\u001b[0m \u001b[0;36m4\u001b[0m\u001b[0;34m,\u001b[0m \u001b[0;36m5\u001b[0m\u001b[0;34m]\u001b[0m\u001b[0;34m)\u001b[0m\u001b[0;34m\u001b[0m\u001b[0;34m\u001b[0m\u001b[0m\n\u001b[1;32m      2\u001b[0m \u001b[0marr0\u001b[0m \u001b[0;34m=\u001b[0m \u001b[0mnp\u001b[0m\u001b[0;34m.\u001b[0m\u001b[0marray\u001b[0m\u001b[0;34m(\u001b[0m\u001b[0;34m[\u001b[0m\u001b[0;36m0\u001b[0m\u001b[0;34m,\u001b[0m \u001b[0;36m0\u001b[0m\u001b[0;34m,\u001b[0m \u001b[0;36m0\u001b[0m\u001b[0;34m]\u001b[0m\u001b[0;34m)\u001b[0m\u001b[0;34m\u001b[0m\u001b[0;34m\u001b[0m\u001b[0m\n\u001b[0;32m----> 3\u001b[0;31m \u001b[0marr\u001b[0m\u001b[0;34m[\u001b[0m\u001b[0;34m:\u001b[0m\u001b[0;34m:\u001b[0m\u001b[0;36m1\u001b[0m\u001b[0;34m]\u001b[0m\u001b[0;34m.\u001b[0m\u001b[0madd\u001b[0m\u001b[0;34m(\u001b[0m\u001b[0marr0\u001b[0m\u001b[0;34m)\u001b[0m\u001b[0;34m\u001b[0m\u001b[0;34m\u001b[0m\u001b[0m\n\u001b[0m\u001b[1;32m      4\u001b[0m \u001b[0marr\u001b[0m\u001b[0;34m\u001b[0m\u001b[0;34m\u001b[0m\u001b[0m\n",
            "\u001b[0;31mAttributeError\u001b[0m: 'numpy.ndarray' object has no attribute 'add'"
          ]
        }
      ]
    },
    {
      "cell_type": "markdown",
      "id": "781fa236",
      "metadata": {
        "id": "781fa236"
      },
      "source": [
        "#### 36. Quyidagi a massiv berilgan, a = [1,2,3,4,5,6,7,8,9,10,11,12,13,14] undan foydalangan holda siz quyidagi b massivni yarata olasizmi, b = [[1,2,3,4], [2,3,4,5], [3,4,5,6], ..., [11,12,13,14]]? \n"
      ]
    },
    {
      "cell_type": "markdown",
      "source": [
        "`💡Ishora` stride_tricks.as_strided"
      ],
      "metadata": {
        "id": "82e3d17e"
      },
      "id": "82e3d17e"
    },
    {
      "cell_type": "code",
      "source": [
        "from numpy.lib import stride_tricks\n",
        "a = np.asarray(range(1, 30), np.int8)\n",
        "b = stride_tricks.as_strided(a, shape=(11,4), strides=(1,1))\n",
        "b"
      ],
      "metadata": {
        "id": "S1H6ivCua3NZ",
        "colab": {
          "base_uri": "https://localhost:8080/"
        },
        "outputId": "6315e02e-60d3-4392-beea-5e3e462bfd10"
      },
      "id": "S1H6ivCua3NZ",
      "execution_count": 72,
      "outputs": [
        {
          "output_type": "execute_result",
          "data": {
            "text/plain": [
              "array([[ 1,  2,  3,  4],\n",
              "       [ 2,  3,  4,  5],\n",
              "       [ 3,  4,  5,  6],\n",
              "       [ 4,  5,  6,  7],\n",
              "       [ 5,  6,  7,  8],\n",
              "       [ 6,  7,  8,  9],\n",
              "       [ 7,  8,  9, 10],\n",
              "       [ 8,  9, 10, 11],\n",
              "       [ 9, 10, 11, 12],\n",
              "       [10, 11, 12, 13],\n",
              "       [11, 12, 13, 14]], dtype=int8)"
            ]
          },
          "metadata": {},
          "execution_count": 72
        }
      ]
    },
    {
      "cell_type": "markdown",
      "id": "7d8dc135",
      "metadata": {
        "id": "7d8dc135"
      },
      "source": [
        "#### 37. Ixtiyoriy sonlardan tashkil topgan massiv yarating, unga o'xshash qiymatlar kiriting. So'ng, o'xshash qiymatlarni topuvchi dastur tuzing.\n"
      ]
    },
    {
      "cell_type": "markdown",
      "source": [
        "`💡Ishora` np.bincount, argmax"
      ],
      "metadata": {
        "id": "81844e99"
      },
      "id": "81844e99"
    },
    {
      "cell_type": "code",
      "source": [
        "array2 = [10, 11, 4, 6, 2, 1, 9]\n",
        "array1 = [1, 3, 1, 3, 1, 2, 2]\n",
        "  \n",
        "bin = np.bincount(array1, array2)\n",
        "bin"
      ],
      "metadata": {
        "id": "SiRaNwxjbaQN",
        "colab": {
          "base_uri": "https://localhost:8080/"
        },
        "outputId": "4c2b6e9e-6128-4752-bcd4-44f2ed8a1cfe"
      },
      "id": "SiRaNwxjbaQN",
      "execution_count": 81,
      "outputs": [
        {
          "output_type": "execute_result",
          "data": {
            "text/plain": [
              "array([ 0., 16., 10., 17.])"
            ]
          },
          "metadata": {},
          "execution_count": 81
        }
      ]
    },
    {
      "cell_type": "markdown",
      "source": [
        "#### BONUS!\n",
        "\n",
        "`💡O'zingiz javob berishni istagan savolni kiriting va unga javob bering!`"
      ],
      "metadata": {
        "id": "URzxwwODb0m_"
      },
      "id": "URzxwwODb0m_"
    },
    {
      "cell_type": "code",
      "source": [
        "x = np.asarray(range(1,13), np.int32).reshape(3,2,2)\n",
        "print(x)\n",
        "stride_tricks.as_strided(x, shape=(3,2,2), strides=(16,4,8))"
      ],
      "metadata": {
        "id": "9xpR0GVrbzuk",
        "colab": {
          "base_uri": "https://localhost:8080/"
        },
        "outputId": "f3f2d47d-9893-45c4-e89d-fc022e5e3e2a"
      },
      "id": "9xpR0GVrbzuk",
      "execution_count": 83,
      "outputs": [
        {
          "output_type": "stream",
          "name": "stdout",
          "text": [
            "[[[ 1  2]\n",
            "  [ 3  4]]\n",
            "\n",
            " [[ 5  6]\n",
            "  [ 7  8]]\n",
            "\n",
            " [[ 9 10]\n",
            "  [11 12]]]\n"
          ]
        },
        {
          "output_type": "execute_result",
          "data": {
            "text/plain": [
              "array([[[ 1,  3],\n",
              "        [ 2,  4]],\n",
              "\n",
              "       [[ 5,  7],\n",
              "        [ 6,  8]],\n",
              "\n",
              "       [[ 9, 11],\n",
              "        [10, 12]]], dtype=int32)"
            ]
          },
          "metadata": {},
          "execution_count": 83
        }
      ]
    },
    {
      "cell_type": "code",
      "source": [],
      "metadata": {
        "id": "x0rbsA1IBLj1"
      },
      "id": "x0rbsA1IBLj1",
      "execution_count": null,
      "outputs": []
    }
  ],
  "metadata": {
    "hide_input": false,
    "kernelspec": {
      "display_name": "Python 3",
      "language": "python",
      "name": "python3"
    },
    "language_info": {
      "codemirror_mode": {
        "name": "ipython",
        "version": 3
      },
      "file_extension": ".py",
      "mimetype": "text/x-python",
      "name": "python",
      "nbconvert_exporter": "python",
      "pygments_lexer": "ipython3",
      "version": "3.8.8"
    },
    "toc": {
      "base_numbering": 1,
      "nav_menu": {},
      "number_sections": true,
      "sideBar": true,
      "skip_h1_title": false,
      "title_cell": "Table of Contents",
      "title_sidebar": "Contents",
      "toc_cell": false,
      "toc_position": {},
      "toc_section_display": true,
      "toc_window_display": false
    },
    "varInspector": {
      "cols": {
        "lenName": 16,
        "lenType": 16,
        "lenVar": 40
      },
      "kernels_config": {
        "python": {
          "delete_cmd_postfix": "",
          "delete_cmd_prefix": "del ",
          "library": "var_list.py",
          "varRefreshCmd": "print(var_dic_list())"
        },
        "r": {
          "delete_cmd_postfix": ") ",
          "delete_cmd_prefix": "rm(",
          "library": "var_list.r",
          "varRefreshCmd": "cat(var_dic_list()) "
        }
      },
      "types_to_exclude": [
        "module",
        "function",
        "builtin_function_or_method",
        "instance",
        "_Feature"
      ],
      "window_display": false
    },
    "colab": {
      "provenance": [],
      "include_colab_link": true
    }
  },
  "nbformat": 4,
  "nbformat_minor": 5
}