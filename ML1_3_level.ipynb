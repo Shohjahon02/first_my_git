{
  "nbformat": 4,
  "nbformat_minor": 0,
  "metadata": {
    "colab": {
      "provenance": [],
      "authorship_tag": "ABX9TyMv+8cjmXN2ghBE7Mep/Mvb",
      "include_colab_link": true
    },
    "kernelspec": {
      "name": "python3",
      "display_name": "Python 3"
    },
    "language_info": {
      "name": "python"
    }
  },
  "cells": [
    {
      "cell_type": "markdown",
      "metadata": {
        "id": "view-in-github",
        "colab_type": "text"
      },
      "source": [
        "<a href=\"https://colab.research.google.com/github/Shohjahon02/first_my_git/blob/main/ML1_3_level.ipynb\" target=\"_parent\"><img src=\"https://colab.research.google.com/assets/colab-badge.svg\" alt=\"Open In Colab\"/></a>"
      ]
    },
    {
      "cell_type": "code",
      "execution_count": 3,
      "metadata": {
        "id": "p-F6BXeOn1xX"
      },
      "outputs": [],
      "source": [
        "import pandas as pd\n",
        "import numpy as np\n",
        "import sklearn # scikit-learn kutubxonasi\n",
        "\n",
        "# Onlayn dataset joylashgan manzilini ko'rsatamiaz\n",
        "df = pd.read_csv('/content/uy_data1.csv', index_col=0)\n",
        "\n",
        "from sklearn.model_selection import train_test_split\n",
        "train_set, test_set = train_test_split(df, test_size=0.2, random_state=42)\n",
        "\n",
        "housing = train_set.drop(\"price\", axis=1)\n",
        "housing_labels = train_set[\"price\"].copy()\n",
        "\n",
        "housing_num = housing.drop(['location', 'district'], axis=1)"
      ]
    },
    {
      "cell_type": "code",
      "source": [
        "# from sklearn.base import BaseEstimator, TransformerMixin\n",
        "# # bizga kerak ustunlar indekslari\n",
        "# rooms_ix, bedrooms_ix, population_ix, households_ix = 3, 4, 5, 6\n",
        "\n",
        "# class CombinedAttributesAdder(BaseEstimator, TransformerMixin):\n",
        "#     def __init__(self, add_bedrooms_per_room = True):\n",
        "#         self.add_bedrooms_per_room = add_bedrooms_per_room\n",
        "#     def fit(self, X, y=None):\n",
        "#         return self # bizni funksiyamiz faqat transformer. estimator emas\n",
        "#     def transform(self, X):\n",
        "#         rooms_per_household = X[:, rooms_ix] / X[:, households_ix]\n",
        "#         population_per_household = X[:, population_ix] / X[:, households_ix]\n",
        "#         if self.add_bedrooms_per_room: # add_bedrooms_per_room ustuni ixtiyoriy bo'ladi\n",
        "#             bedrooms_per_room = X[:, bedrooms_ix] / X[:, rooms_ix]\n",
        "#             return np.c_[X, rooms_per_household, population_per_household, bedrooms_per_room]\n",
        "#         else:\n",
        "#             return np.c_[X, rooms_per_household, population_per_household]"
      ],
      "metadata": {
        "id": "_WzINfyxoa9_"
      },
      "execution_count": null,
      "outputs": []
    },
    {
      "cell_type": "code",
      "source": [
        "from sklearn.pipeline import Pipeline\n",
        "from sklearn.impute import SimpleImputer\n",
        "from sklearn.preprocessing import OneHotEncoder, StandardScaler\n",
        "\n",
        "num_pipeline = Pipeline([\n",
        "          # ('imputer', SimpleImputer(strategy='median')),\n",
        "          # ('attribs_adder', CombinedAttributesAdder(add_bedrooms_per_room = True)),\n",
        "          ('std_scaler', StandardScaler())             \n",
        "])"
      ],
      "metadata": {
        "id": "ga81-IXHoeEm"
      },
      "execution_count": 8,
      "outputs": []
    },
    {
      "cell_type": "code",
      "source": [
        "num_pipeline.fit_transform(housing_num)"
      ],
      "metadata": {
        "colab": {
          "base_uri": "https://localhost:8080/"
        },
        "id": "oJcfuenipdwC",
        "outputId": "d85c2692-14f8-4eb8-b4e5-c229cf103cc2"
      },
      "execution_count": 9,
      "outputs": [
        {
          "output_type": "execute_result",
          "data": {
            "text/plain": [
              "array([[ 2.2481754 ,  1.00669977, -0.31445736, -0.40179114],\n",
              "       [-0.58478367, -0.36105029,  0.13224842, -0.40179114],\n",
              "       [ 1.30385571,  0.19721504, -0.31445736, -0.78343156],\n",
              "       ...,\n",
              "       [-0.58478367, -0.89140235,  0.13224842,  0.3614897 ],\n",
              "       [-0.58478367, -0.47270335,  0.13224842, -0.78343156],\n",
              "       [-0.58478367, -0.75183602, -0.31445736, -0.78343156]])"
            ]
          },
          "metadata": {},
          "execution_count": 9
        }
      ]
    },
    {
      "cell_type": "code",
      "source": [
        "from sklearn.compose import ColumnTransformer\n",
        "from sklearn.preprocessing import OrdinalEncoder\n",
        "\n",
        "num_attribs = list(housing_num)\n",
        "loc_attribs = ['location']\n",
        "dist_attribs = ['district']\n",
        "\n",
        "full_pipeline = ColumnTransformer([\n",
        "    ('num', num_pipeline, num_attribs),\n",
        "     ('loc', OrdinalEncoder(), loc_attribs),\n",
        "    ('dist', OneHotEncoder(), dist_attribs)\n",
        "])"
      ],
      "metadata": {
        "id": "KlLO8BSvpfpL"
      },
      "execution_count": 12,
      "outputs": []
    },
    {
      "cell_type": "code",
      "source": [
        "housing_prepared = full_pipeline.fit_transform(housing)"
      ],
      "metadata": {
        "id": "sWaZRajlqNKR"
      },
      "execution_count": 13,
      "outputs": []
    },
    {
      "cell_type": "code",
      "source": [
        "housing_prepared[0:5, :]"
      ],
      "metadata": {
        "colab": {
          "base_uri": "https://localhost:8080/"
        },
        "id": "fXW1bI80rSNW",
        "outputId": "effb90cb-3552-4572-93f4-1dc85b34fbb0"
      },
      "execution_count": 14,
      "outputs": [
        {
          "output_type": "execute_result",
          "data": {
            "text/plain": [
              "array([[ 2.24817540e+00,  1.00669977e+00, -3.14457359e-01,\n",
              "        -4.01791138e-01,  1.11800000e+03,  0.00000000e+00,\n",
              "         0.00000000e+00,  0.00000000e+00,  0.00000000e+00,\n",
              "         0.00000000e+00,  0.00000000e+00,  0.00000000e+00,\n",
              "         0.00000000e+00,  0.00000000e+00,  1.00000000e+00,\n",
              "         0.00000000e+00,  0.00000000e+00],\n",
              "       [-5.84783667e-01, -3.61050285e-01,  1.32248422e-01,\n",
              "        -4.01791138e-01,  7.95000000e+02,  0.00000000e+00,\n",
              "         0.00000000e+00,  0.00000000e+00,  0.00000000e+00,\n",
              "         0.00000000e+00,  0.00000000e+00,  1.00000000e+00,\n",
              "         0.00000000e+00,  0.00000000e+00,  0.00000000e+00,\n",
              "         0.00000000e+00,  0.00000000e+00],\n",
              "       [ 1.30385571e+00,  1.97215044e-01, -3.14457359e-01,\n",
              "        -7.83431560e-01,  1.03500000e+03,  0.00000000e+00,\n",
              "         0.00000000e+00,  0.00000000e+00,  0.00000000e+00,\n",
              "         0.00000000e+00,  0.00000000e+00,  0.00000000e+00,\n",
              "         0.00000000e+00,  1.00000000e+00,  0.00000000e+00,\n",
              "         0.00000000e+00,  0.00000000e+00],\n",
              "       [ 1.30385571e+00,  1.97215044e-01,  5.78954204e-01,\n",
              "        -4.01791138e-01,  2.82000000e+02,  0.00000000e+00,\n",
              "         0.00000000e+00,  1.00000000e+00,  0.00000000e+00,\n",
              "         0.00000000e+00,  0.00000000e+00,  0.00000000e+00,\n",
              "         0.00000000e+00,  0.00000000e+00,  0.00000000e+00,\n",
              "         0.00000000e+00,  0.00000000e+00],\n",
              "       [-1.52910336e+00, -8.35575815e-01,  5.78954204e-01,\n",
              "         3.79625350e+00,  1.15700000e+03,  0.00000000e+00,\n",
              "         0.00000000e+00,  0.00000000e+00,  0.00000000e+00,\n",
              "         0.00000000e+00,  0.00000000e+00,  0.00000000e+00,\n",
              "         0.00000000e+00,  0.00000000e+00,  1.00000000e+00,\n",
              "         0.00000000e+00,  0.00000000e+00]])"
            ]
          },
          "metadata": {},
          "execution_count": 14
        }
      ]
    },
    {
      "cell_type": "code",
      "source": [],
      "metadata": {
        "id": "7hil9VfxrZYd"
      },
      "execution_count": null,
      "outputs": []
    }
  ]
}